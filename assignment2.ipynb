{
 "cells": [
  {
   "cell_type": "code",
   "execution_count": 14,
   "id": "8b79f241",
   "metadata": {},
   "outputs": [
    {
     "name": "stdout",
     "output_type": "stream",
     "text": [
      "enter your first name : minhaaz\n",
      "enter your last name : shaik\n",
      "User full name :  minhaaz shaik\n",
      "Alternate String :  mnazsak\n"
     ]
    }
   ],
   "source": [
    "first_name= input(\"enter your first name : \")\n",
    "last_name= input(\"enter your last name : \")\n",
    "\n",
    "def full_name(first_name,last_name):\n",
    "    return first_name +\" \"+last_name\n",
    "\n",
    "def string_alternative(full_name):\n",
    "    str = \"\"\n",
    "    for i in range(0,len(full_name),2):\n",
    "                       str+=full_name[i]        \n",
    "    return str               \n",
    "\n",
    "\n",
    "print(\"User full name : \",full_name(first_name,last_name))\n",
    "\n",
    "print(\"Alternate String : \",string_alternative(full_name(first_name,last_name)))"
   ]
  },
  {
   "cell_type": "code",
   "execution_count": 15,
   "id": "02acd856",
   "metadata": {},
   "outputs": [],
   "source": [
    "input_file = open(\"input.txt\", \"r\")\n",
    "output_file = open(\"output.txt\", \"w\")\n",
    "\n",
    "content = {}\n",
    "\n",
    "\n",
    "for line in input_file:\n",
    "    output_file.write(line)\n",
    "    new_l = line.split()\n",
    "    for x in new_l:\n",
    "        if(content.get(x)==None):\n",
    "            content[x]=1\n",
    "        else:\n",
    "            content[x] = content[x] + 1\n",
    "            \n",
    "output_file.write(\" Word_Count : \")\n",
    "for key, value in content.items(): \n",
    "        output_file.write('%s:%s\\n' % (key, value))\n",
    "input_file.close()\n",
    "output_file.close()"
   ]
  },
  {
   "cell_type": "code",
   "execution_count": 16,
   "id": "b481af71",
   "metadata": {},
   "outputs": [
    {
     "name": "stdout",
     "output_type": "stream",
     "text": [
      "enter customer heights : 150 155 145 148\n",
      "show list :  [381.0, 393.7, 368.3, 375.92]\n"
     ]
    }
   ],
   "source": [
    "data = input(\"enter customer heights : \")\n",
    "\n",
    "def inchToCent(value):\n",
    "    return value*2.54\n",
    "\n",
    "heights = data.split()\n",
    "\n",
    "new_list = []\n",
    "\n",
    "for x in heights:\n",
    "    value = int(x)\n",
    "    new_list.append(inchToCent(value))\n",
    "    \n",
    "print(\"show list : \",new_list)"
   ]
  },
  {
   "cell_type": "code",
   "execution_count": null,
   "id": "493313ba",
   "metadata": {},
   "outputs": [],
   "source": []
  },
  {
   "cell_type": "code",
   "execution_count": null,
   "id": "07e52cfc",
   "metadata": {},
   "outputs": [],
   "source": []
  }
 ],
 "metadata": {
  "kernelspec": {
   "display_name": "Python 3 (ipykernel)",
   "language": "python",
   "name": "python3"
  },
  "language_info": {
   "codemirror_mode": {
    "name": "ipython",
    "version": 3
   },
   "file_extension": ".py",
   "mimetype": "text/x-python",
   "name": "python",
   "nbconvert_exporter": "python",
   "pygments_lexer": "ipython3",
   "version": "3.9.13"
  }
 },
 "nbformat": 4,
 "nbformat_minor": 5
}
